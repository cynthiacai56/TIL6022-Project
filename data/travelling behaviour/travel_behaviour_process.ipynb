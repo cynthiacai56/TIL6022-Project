{
 "cells": [
  {
   "cell_type": "markdown",
   "id": "06c0f25c",
   "metadata": {},
   "source": [
    "# Sub-question: Travellling Behaviour\n",
    "## Part 1: Data Import"
   ]
  },
  {
   "cell_type": "markdown",
   "id": "ef8221e1",
   "metadata": {},
   "source": [
    "In order to analyze the impact of the epidemic on the mobility of Poland and the Netherlands, we will use Google mobility data to study the changes of trips to six different destinations relative to the baseline (traffic volume before the epidemic) during the epidemic, namely Retail & recreation, Grocery & pharmacy, Workplaces, Residential, Parks and Transit stations."
   ]
  },
  {
   "cell_type": "code",
   "execution_count": null,
   "id": "a3f11333",
   "metadata": {},
   "outputs": [],
   "source": [
    "import pandas as pd\n",
    "import numpy as np\n",
    "import plotly.express as px\n",
    "from matplotlib import pyplot as plt\n",
    "from sklearn.linear_model import LinearRegression"
   ]
  },
  {
   "cell_type": "markdown",
   "id": "8078d9b2",
   "metadata": {},
   "source": [
    "### 1.1 Google Community Mobility Data\n",
    "\n",
    "Data source: Google Community Mobility Reports\n",
    "\n",
    "https://www.google.com/covid19/mobility/\n",
    "\n",
    "Report is broken down by location and displays the change in visits to places like grocery stores and parks"
   ]
  },
  {
   "cell_type": "code",
   "execution_count": null,
   "id": "6d87894a",
   "metadata": {},
   "outputs": [],
   "source": [
    "# Import the file contians Community Mobility data of NL and PL\n",
    "df_nl_2020 = pd.read_csv(\"./raw/2020_NL_Region_Mobility_Report.csv\", delimiter=',')\n",
    "df_nl_2021 = pd.read_csv(\"./raw/2021_NL_Region_Mobility_Report.csv\", delimiter=',')\n",
    "df_nl_2022 = pd.read_csv(\"./data/travelling behaviour/raw/2022_NL_Region_Mobility_Report.csv\", delimiter=',')\n",
    "\n",
    "df_pl_2020 = pd.read_csv(\"./raw/2020_PL_Region_Mobility_Report.csv\", delimiter=',')\n",
    "df_pl_2021 = pd.read_csv(\"./raw/2021_PL_Region_Mobility_Report.csv\", delimiter=',')\n",
    "df_pl_2022 = pd.read_csv(\"./raw/2022_PL_Region_Mobility_Report.csv\", delimiter=',')\n",
    "\n",
    "# Merge the data\n",
    "df_nl_m=pd.concat([df_nl_2020,df_nl_2021,df_nl_2022])\n",
    "df_pl_m=pd.concat([df_pl_2020,df_pl_2021,df_pl_2022])\n",
    "\n",
    "# Keep the national data, and remove the provincial data\n",
    "df_nl_m=df_nl_m[df_nl_m['sub_region_1'].isnull().values==True]\n",
    "df_pl_m=df_pl_m[df_pl_m['sub_region_1'].isnull().values==True]\n",
    "#display(df_nl_m)\n",
    "#display(df_pl_m)"
   ]
  },
  {
   "cell_type": "markdown",
   "id": "cb177e9f",
   "metadata": {},
   "source": [
    "### 1.2 COVID-19 Data\n",
    "\n",
    "Data source: WHO Coronavirus (COVID-19) Data\n",
    "    \n",
    "https://covid19.who.int/data"
   ]
  },
  {
   "cell_type": "code",
   "execution_count": null,
   "id": "5553d8cb",
   "metadata": {},
   "outputs": [],
   "source": [
    "# Import the csv file contians data of global daily Daily new confirmed cases per million people\n",
    "df_covid_raw = pd.read_csv(\"./raw/Daily new confirmed cases per 1M.csv\", delimiter=',')\n",
    "\n",
    "# Drop unwanted rows\n",
    "df_covid = df_covid_raw.loc[((df_covid_raw['location'] == 'Netherlands') | (df_covid_raw['location'] == 'Poland'))]\n",
    "\n",
    "# Drop unwanted columns\n",
    "df_covid = df_covid[['location', 'date', 'new_cases', 'new_cases_per_million', 'new_deaths', 'new_deaths_per_million']]\n",
    "df_covid.loc[:, 'date'] = pd.to_datetime(df_covid.loc[:, 'date'])\n",
    "df_covid.set_index('date', inplace = True)\n",
    "\n",
    "df_covid"
   ]
  },
  {
   "cell_type": "markdown",
   "id": "01eed0b8",
   "metadata": {},
   "source": [
    "## Part 2: Data Processing\n",
    "### 2.1 Google Community Mobility Data"
   ]
  },
  {
   "cell_type": "code",
   "execution_count": null,
   "id": "753341ca",
   "metadata": {},
   "outputs": [],
   "source": [
    "# Remove useless column\n",
    "df_nl_m = df_nl_m.drop(['country_region_code','country_region','sub_region_1','sub_region_2','metro_area','iso_3166_2_code','census_fips_code','place_id'], axis=1)\n",
    "df_pl_m = df_pl_m.drop(['country_region_code','country_region','sub_region_1','sub_region_2','metro_area','iso_3166_2_code','census_fips_code','place_id'], axis=1)"
   ]
  },
  {
   "cell_type": "code",
   "execution_count": null,
   "id": "082378c9",
   "metadata": {},
   "outputs": [],
   "source": [
    "# Change column type to pandas date time of Google Mobility Dataset\n",
    "df_nl_m.loc[:, 'date'] = pd.to_datetime(df_nl_m.loc[:, 'date'])\n",
    "df_pl_m.loc[:, 'date'] = pd.to_datetime(df_pl_m.loc[:, 'date'])\n",
    "\n",
    "# Rename the columns\n",
    "df_nl_m.columns = ['date', 'NL_retail_and_recreation', 'NL_grocery_and_pharmacy', 'NL_parks', 'NL_transit', 'NL_workplaces', 'NL_residential']\n",
    "df_pl_m.columns = ['date', 'PL_retail_and_recreation', 'PL_grocery_and_pharmacy', 'PL_parks', 'PL_transit', 'PL_workplaces', 'PL_residential']\n",
    "display(df_nl_m)"
   ]
  },
  {
   "cell_type": "code",
   "execution_count": null,
   "id": "458502aa",
   "metadata": {},
   "outputs": [],
   "source": [
    "df_Mobility_Data = pd.merge(df_nl_m, df_pl_m, on='date')\n",
    "df_Mobility_Data.set_index('date', inplace=True)\n",
    "display(df_Mobility_Data)"
   ]
  },
  {
   "cell_type": "markdown",
   "id": "c59fd500",
   "metadata": {},
   "source": [
    "### 2.2 Covid-19 Data"
   ]
  },
  {
   "cell_type": "code",
   "execution_count": null,
   "id": "6194f94f",
   "metadata": {},
   "outputs": [],
   "source": [
    "# Extract by countries\n",
    "df_covid_nl=df_covid[~df_covid['location'].isin(['Poland'])]\n",
    "df_covid_nl=df_covid_nl.drop(['location', 'new_cases', 'new_deaths'], axis=1)\n",
    "df_covid_nl.columns=[ 'new_cases_per_million_nl', 'new_deaths_per_million_nl']\n",
    "\n",
    "df_covid_pl=df_covid[~df_covid['location'].isin(['Netherlands'])]\n",
    "df_covid_pl=df_covid_pl.drop(['location', 'new_cases', 'new_deaths'], axis=1)\n",
    "df_covid_pl.columns=[ 'new_cases_per_million_pl', 'new_deaths_per_million_pl']\n",
    "\n",
    "# merge to one table\n",
    "df_covid = pd.concat([df_covid_nl, df_covid_pl], axis=1)\n",
    "display(df_covid)"
   ]
  },
  {
   "cell_type": "markdown",
   "id": "a98b588d",
   "metadata": {},
   "source": [
    "### 2.3 Merge to one dataframe"
   ]
  },
  {
   "cell_type": "code",
   "execution_count": null,
   "id": "67e3818e",
   "metadata": {},
   "outputs": [],
   "source": [
    "#df_result =df_covid.join(df_Mobility_Data)\n",
    "df_Mobility_Data=pd.concat([df_covid, df_Mobility_Data], axis=1)\n",
    "#df_result=pd.merge(df_Mobility_Data, df_covid, left_index=True, right_index=True)\n",
    "#print(pd.merge(df1,df2,on='key'))\n",
    "display(df_Mobility_Data)"
   ]
  },
  {
   "cell_type": "code",
   "execution_count": null,
   "id": "ba332132",
   "metadata": {},
   "outputs": [],
   "source": [
    "  # delete axis that contains NaN\n",
    "df_Mobility_Data.dropna(axis=0, how='any', inplace=True)"
   ]
  },
  {
   "cell_type": "code",
   "execution_count": null,
   "id": "829aaf6d",
   "metadata": {},
   "outputs": [],
   "source": [
    "# save file\n",
    "df_Mobility_Data.to_csv(\"./process/travel_behaviour.csv\", index=False)"
   ]
  }
 ],
 "metadata": {
  "kernelspec": {
   "display_name": "Python 3.10.4 ('TIL6022')",
   "language": "python",
   "name": "python3"
  },
  "language_info": {
   "codemirror_mode": {
    "name": "ipython",
    "version": 3
   },
   "file_extension": ".py",
   "mimetype": "text/x-python",
   "name": "python",
   "nbconvert_exporter": "python",
   "pygments_lexer": "ipython3",
   "version": "3.10.4"
  },
  "vscode": {
   "interpreter": {
    "hash": "fdb5c300a33c99b522698de67548523527540cc90a97c0b440fccfbd51446e6a"
   }
  }
 },
 "nbformat": 4,
 "nbformat_minor": 5
}
