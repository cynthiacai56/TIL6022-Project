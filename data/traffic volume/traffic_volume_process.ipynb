{
 "cells": [
  {
   "cell_type": "markdown",
   "id": "b0c33be6",
   "metadata": {},
   "source": [
    "# Data processing\n",
    "# Sub-question: Traffic volume and economy\n",
    "Data about traffic volume per GDP is imported.\n",
    "- European data on volume of traffic relative to GDP. Obtained from eurostat: `https://ec.europa.eu/eurostat/databrowser/view/ttr00001/default/table?lang=en`\n",
    "\n",
    "Data about GDP is imported.\n",
    "- European data GDP. Obtained from worldbank: `https://data.worldbank.org/indicator/NY.GDP.MKTP.CD?locations=PL & https://data.worldbank.org/indicator/NY.GDP.MKTP.CD?locations=NL & https://data.worldbank.org/indicator/NY.GDP.MKTP.CD?locations=RO\n",
    "`\n",
    "\n",
    "Data about COVID is imported.\n",
    "- World data COVID. Obtained from world health organization: `https://covid19.who.int/\n",
    "`\n",
    "\n",
    "Looking at the difference in mobility due to covid between 1 wealthy country (Netherlands) and 2 less wealthy countries (Poland and Romania) to see if the decline in transport during covid was different in these two types of countries. Less wealthy countries maybe have less room for working from home, less knowledge minded service jobs for example. Yearly data is used, as this was the only available data for this question. This gives a macroscopic overview of the effect of covid.\n",
    "    "
   ]
  },
  {
   "cell_type": "code",
   "execution_count": 1,
   "id": "7f86036d",
   "metadata": {},
   "outputs": [],
   "source": [
    "import numpy as np\n",
    "import pandas as pd"
   ]
  },
  {
   "cell_type": "markdown",
   "id": "3a0edf8b",
   "metadata": {},
   "source": [
    "### Traffic volume per GDP"
   ]
  },
  {
   "cell_type": "code",
   "execution_count": 2,
   "id": "5e17108f",
   "metadata": {},
   "outputs": [],
   "source": [
    "# Import the file that contains traffic volume per GDP data, remove irrelevent data and only keep data of Netherlands, Poland and Romania\n",
    "df_raw = pd.read_csv(\"./raw/ttr00001_linear.csv\" , delimiter=',')\n",
    "\n",
    "# Extract data of the Netherlands, poland and romania\n",
    "df_nl = df_raw[df_raw['geo'] == \"NL\"]\n",
    "df_pl = df_raw[df_raw['geo'] == \"PL\"]\n",
    "df_ro = df_raw[df_raw['geo'] == \"RO\"]\n",
    "\n",
    "# Create a new dataframe to integrate the data of all three countries in the desired form\n",
    "df_nl_pl = pd.merge(df_nl, df_pl, on='TIME_PERIOD')\n",
    "df_nl_pl_ro = pd.merge(df_nl_pl, df_ro, on='TIME_PERIOD')\n",
    "\n",
    "# Remove unnessecary columns \n",
    "df_nl_pl_ro = df_nl_pl_ro.drop(['unit_x', \"freq_x\", \"LAST UPDATE_x\", \"OBS_FLAG_x\", \"DATAFLOW_x\", \"DATAFLOW_y\", \"LAST UPDATE_y\", \"freq_y\", \"unit_y\", \"OBS_FLAG_y\", \"DATAFLOW\", \"LAST UPDATE\", \"freq\", \"unit\", \"OBS_FLAG\", \"geo_x\", \"geo_y\", \"geo\"], axis=1)\n",
    "\n",
    "# Rename column\n",
    "df_nl_pl_ro = df_nl_pl_ro.rename({\n",
    "            'OBS_VALUE_x': 'Netherlands traffic volume relative to GDP',\n",
    "            'OBS_VALUE_y': 'Poland traffic volume relative to GDP',\n",
    "            'OBS_VALUE': 'Romania traffic relative to GDP'\n",
    "        }, axis=1)"
   ]
  },
  {
   "cell_type": "markdown",
   "id": "6933460b",
   "metadata": {},
   "source": [
    "### GDP"
   ]
  },
  {
   "cell_type": "code",
   "execution_count": 3,
   "id": "c7dad59c",
   "metadata": {},
   "outputs": [],
   "source": [
    "# Import GDP data for the netherlands, poland and romania\n",
    "df_GDP = pd.read_csv('./raw/GDP_data_C.csv' , delimiter=';')\n",
    "\n",
    "# Extract data of the Netherlands, poland and romania\n",
    "df_GDP_nl = df_GDP[df_GDP[\"Country Name\"] == \"Netherlands\"]\n",
    "df_GDP_pl = df_GDP[df_GDP[\"Country Name\"] == \"Poland\"]\n",
    "df_GDP_ro = df_GDP[df_GDP[\"Country Name\"] == \"Romania\"]\n",
    "\n",
    "# Convert data to correct format for merging and visualizing\n",
    "df_GDP_nl = df_GDP_nl.melt(id_vars=[\"Country Name\", \"Country Code\", \"Indicator Name\", \"Indicator Code\"],\n",
    "              var_name=\"TIME_PERIOD\",\n",
    "              value_name=\"GDP\")\n",
    "df_GDP_pl = df_GDP_pl.melt(id_vars=[\"Country Name\", \"Country Code\", \"Indicator Name\", \"Indicator Code\"],\n",
    "              var_name=\"TIME_PERIOD\",\n",
    "              value_name=\"GDP\")\n",
    "df_GDP_ro = df_GDP_ro.melt(id_vars=[\"Country Name\", \"Country Code\", \"Indicator Name\", \"Indicator Code\"],\n",
    "              var_name=\"TIME_PERIOD\",\n",
    "              value_name=\"GDP\")\n",
    "\n",
    "# Create a new dataframe to integrate the data of all three countries in the desired form\n",
    "df_GDP_nl_pl = pd.merge(df_GDP_nl, df_GDP_pl, on='TIME_PERIOD')\n",
    "df_GDP_nl_pl_ro = pd.merge(df_GDP_nl_pl, df_GDP_ro, on='TIME_PERIOD')\n",
    "\n",
    "# Remove unnessecary columns \n",
    "df_GDP_nl_pl_ro = df_GDP_nl_pl_ro.drop(['Country Name_x', \"Country Name_y\", \"Country Name\", \"Indicator Name_x\", \"Indicator Code_x\", \"Indicator Code_y\", \"Indicator Code\", \"Country Code_x\", \"Country Code_y\", \"Country Code\", \"Indicator Name_y\", \"Indicator Name\"], axis=1)\n",
    "\n",
    "# Rename column\n",
    "df_GDP_nl_pl_ro = df_GDP_nl_pl_ro.rename({\n",
    "            'GDP_x': 'GDP Netherlands',\n",
    "            'GDP_y': 'GDP Poland',\n",
    "            'GDP': 'GDP Romania'\n",
    "        }, axis=1)\n",
    "\n",
    "# Remove years before 2009 and remove 2021\n",
    "df_GDP_nl_pl_ro_from_2009 = df_GDP_nl_pl_ro[df_GDP_nl_pl_ro[\"TIME_PERIOD\"] > \"2008\"]\n",
    "df_GDP_nl_pl_ro_excluding_2021 = df_GDP_nl_pl_ro_from_2009[df_GDP_nl_pl_ro_from_2009[\"TIME_PERIOD\"] < \"2021\"]"
   ]
  },
  {
   "cell_type": "code",
   "execution_count": 4,
   "id": "f0641adc",
   "metadata": {},
   "outputs": [
    {
     "name": "stderr",
     "output_type": "stream",
     "text": [
      "C:\\Users\\cynthia\\AppData\\Local\\Temp\\ipykernel_106984\\742152709.py:2: SettingWithCopyWarning: \n",
      "A value is trying to be set on a copy of a slice from a DataFrame.\n",
      "Try using .loc[row_indexer,col_indexer] = value instead\n",
      "\n",
      "See the caveats in the documentation: https://pandas.pydata.org/pandas-docs/stable/user_guide/indexing.html#returning-a-view-versus-a-copy\n",
      "  df_GDP_nl_pl_ro_excluding_2021['TIME_PERIOD'] = df_GDP_nl_pl_ro_excluding_2021['TIME_PERIOD'].astype(int)\n",
      "C:\\Users\\cynthia\\AppData\\Local\\Temp\\ipykernel_106984\\742152709.py:3: SettingWithCopyWarning: \n",
      "A value is trying to be set on a copy of a slice from a DataFrame.\n",
      "Try using .loc[row_indexer,col_indexer] = value instead\n",
      "\n",
      "See the caveats in the documentation: https://pandas.pydata.org/pandas-docs/stable/user_guide/indexing.html#returning-a-view-versus-a-copy\n",
      "  df_GDP_nl_pl_ro_excluding_2021['GDP Netherlands'] = df_GDP_nl_pl_ro_excluding_2021['GDP Netherlands'].astype(float)\n",
      "C:\\Users\\cynthia\\AppData\\Local\\Temp\\ipykernel_106984\\742152709.py:4: SettingWithCopyWarning: \n",
      "A value is trying to be set on a copy of a slice from a DataFrame.\n",
      "Try using .loc[row_indexer,col_indexer] = value instead\n",
      "\n",
      "See the caveats in the documentation: https://pandas.pydata.org/pandas-docs/stable/user_guide/indexing.html#returning-a-view-versus-a-copy\n",
      "  df_GDP_nl_pl_ro_excluding_2021['GDP Poland'] = df_GDP_nl_pl_ro_excluding_2021['GDP Poland'].astype(float)\n",
      "C:\\Users\\cynthia\\AppData\\Local\\Temp\\ipykernel_106984\\742152709.py:5: SettingWithCopyWarning: \n",
      "A value is trying to be set on a copy of a slice from a DataFrame.\n",
      "Try using .loc[row_indexer,col_indexer] = value instead\n",
      "\n",
      "See the caveats in the documentation: https://pandas.pydata.org/pandas-docs/stable/user_guide/indexing.html#returning-a-view-versus-a-copy\n",
      "  df_GDP_nl_pl_ro_excluding_2021['GDP Romania'] = df_GDP_nl_pl_ro_excluding_2021['GDP Romania'].astype(float)\n"
     ]
    }
   ],
   "source": [
    "# Convert Time period in df_GDP_nl_pl_ro_excluding_2021 to integer \n",
    "df_GDP_nl_pl_ro_excluding_2021['TIME_PERIOD'] = df_GDP_nl_pl_ro_excluding_2021['TIME_PERIOD'].astype(int)\n",
    "df_GDP_nl_pl_ro_excluding_2021['GDP Netherlands'] = df_GDP_nl_pl_ro_excluding_2021['GDP Netherlands'].astype(float)\n",
    "df_GDP_nl_pl_ro_excluding_2021['GDP Poland'] = df_GDP_nl_pl_ro_excluding_2021['GDP Poland'].astype(float)\n",
    "df_GDP_nl_pl_ro_excluding_2021['GDP Romania'] = df_GDP_nl_pl_ro_excluding_2021['GDP Romania'].astype(float)\n",
    "\n",
    "# Merge the GDP data frame and the Traffic volume relative to GDP data frame\n",
    "df_GDP_Traffic_3countries = pd.merge(df_GDP_nl_pl_ro_excluding_2021, df_nl_pl_ro, on='TIME_PERIOD')\n",
    "\n",
    "# Make dataframe with only covid years\n",
    "df_GDP_Traffic_3countries_COVID = df_GDP_Traffic_3countries[df_GDP_Traffic_3countries[\"TIME_PERIOD\"] > 2017]\n",
    "## df_GDP_Traffic_3countries_COVID = df_GDP_Traffic_3countries_COVID.drop(['GDP Netherlands', \"GDP Poland\", \"GDP Romania\"], axis=1)\n",
    "\n",
    "# Set index to time period\n",
    "df_GDP_Traffic_3countries.set_index('TIME_PERIOD', inplace=True)\n",
    "df_GDP_Traffic_3countries_COVID.set_index('TIME_PERIOD', inplace=True)\n",
    "\n",
    "# Calculate percentage change of traffic volume for each year\n",
    "df_GDP_Traffic_3countries_COVID = df_GDP_Traffic_3countries_COVID.pct_change()"
   ]
  },
  {
   "cell_type": "markdown",
   "id": "d150950c",
   "metadata": {},
   "source": [
    "### COVID-19 data"
   ]
  },
  {
   "cell_type": "code",
   "execution_count": 5,
   "id": "7410edc2",
   "metadata": {},
   "outputs": [],
   "source": [
    "# Import COVID data for the netherlands, poland and romania\n",
    "df_COVID = pd.read_csv('./raw/WHO-COVID-19-global-data.csv' , delimiter=',')\n",
    "\n",
    "# Extract data of the Netherlands, poland and romania\n",
    "df_COVID_nl = df_COVID[df_COVID[\"Country\"] == \"Netherlands\"]\n",
    "df_COVID_pl = df_COVID[df_COVID[\"Country\"] == \"Poland\"]\n",
    "df_COVID_ro = df_COVID[df_COVID[\"Country\"] == \"Romania\"]\n",
    "\n",
    "# Create a new dataframe to integrate the data of all three countries in the desired form\n",
    "df_COVID_nl_pl = pd.merge(df_COVID_nl, df_COVID_pl, on='Date_reported')\n",
    "df_COVID_nl_pl_ro = pd.merge(df_COVID_nl_pl, df_COVID_ro, on='Date_reported')\n",
    "\n",
    "# Remove unnessecary columns \n",
    "df_COVID_nl_pl_ro = df_COVID_nl_pl_ro.drop(['Country_code_x', \"WHO_region_x\", \"Country_code_y\", \"WHO_region_y\", \"Country_code\", \"WHO_region\", \"Cumulative_cases_x\", \"Cumulative_cases_y\", \"Cumulative_cases\", \"Cumulative_deaths_x\", \"Cumulative_deaths_y\", \"Cumulative_deaths\"], axis=1)\n",
    "\n",
    "# Creating yearly data\n",
    "df_COVID_nl_pl_ro.set_index('Date_reported', inplace=True)\n",
    "df_COVID_nl_pl_ro.index = pd.to_datetime(df_COVID_nl_pl_ro.index)\n",
    "df_COVID_nl_pl_ro = df_COVID_nl_pl_ro.resample('1Y').sum()\n",
    "\n",
    "# Rename column\n",
    "df_COVID_nl_pl_ro = df_COVID_nl_pl_ro.rename({\n",
    "    'New_cases_x': 'COVID_cases_Netherlands',\n",
    "    'New_cases_y': 'COVID_cases_Poland',\n",
    "    'New_cases'  : 'COVID_cases_Romania',\n",
    "    'New_deaths_x': 'COVID_deaths_Netherlands',\n",
    "    'New_deaths_y': 'COVID_deaths_Poland',\n",
    "    'New_deaths'  : 'COVID_deaths_Romania'\n",
    "    }, axis=1)\n",
    "\n",
    "# Remove year 2022 and 2021\n",
    "df_COVID_nl_pl_ro_excluding_2022 = df_COVID_nl_pl_ro[df_COVID_nl_pl_ro.index != \"2022-12-31\"]\n",
    "df_COVID_nl_pl_ro_excluding_2021 = df_COVID_nl_pl_ro_excluding_2022[df_COVID_nl_pl_ro_excluding_2022.index != \"2021-12-31\"]\n",
    "\n",
    "# Add year 2019\n",
    "dict2019={'Date_reported': [20191231], \"COVID_cases_Netherlands\":[0],'COVID_deaths_Netherlands':[0],'COVID_cases_Poland':[0],\"COVID_deaths_Poland\":[0], 'COVID_cases_Romania':[0], 'COVID_deaths_Romania':[0]}\n",
    "df_2019=pd.DataFrame(dict2019)\n",
    "\n",
    "# Format to datetime\n",
    "df_2019['Date_reported'] = pd.to_datetime(df_2019['Date_reported'], format='%Y%m%d')\n",
    "df_2019.set_index('Date_reported', inplace=True)\n",
    "\n",
    "# Concatenate two dataframes\n",
    "df_COVID_final = pd.concat([df_2019, df_COVID_nl_pl_ro_excluding_2021], axis=0)\n",
    "\n",
    "# Make a year column so that graphs look better\n",
    "df_COVID_final[\"year\"] = pd.DatetimeIndex(df_COVID_final.index).year"
   ]
  }
 ],
 "metadata": {
  "kernelspec": {
   "display_name": "Python 3.10.4 ('TIL6022')",
   "language": "python",
   "name": "python3"
  },
  "language_info": {
   "codemirror_mode": {
    "name": "ipython",
    "version": 3
   },
   "file_extension": ".py",
   "mimetype": "text/x-python",
   "name": "python",
   "nbconvert_exporter": "python",
   "pygments_lexer": "ipython3",
   "version": "3.10.4"
  },
  "vscode": {
   "interpreter": {
    "hash": "fdb5c300a33c99b522698de67548523527540cc90a97c0b440fccfbd51446e6a"
   }
  }
 },
 "nbformat": 4,
 "nbformat_minor": 5
}
