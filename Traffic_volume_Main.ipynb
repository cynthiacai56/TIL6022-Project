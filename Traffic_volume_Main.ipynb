{
 "cells": [
  {
   "cell_type": "code",
   "execution_count": null,
   "id": "e61e8840",
   "metadata": {
    "scrolled": true
   },
   "outputs": [],
   "source": []
  },
  {
   "cell_type": "code",
   "execution_count": null,
   "id": "a4d9d949",
   "metadata": {},
   "outputs": [],
   "source": [
    "import pandas as pd\n",
    "import numpy as np\n",
    "import matplotlib.pyplot as plt\n",
    "import plotly.express as px"
   ]
  },
  {
   "cell_type": "markdown",
   "id": "c4484568",
   "metadata": {},
   "source": [
    "<h1>Sub question traffic volume</h1>"
   ]
  },
  {
   "cell_type": "code",
   "execution_count": null,
   "id": "2fe338cc",
   "metadata": {},
   "outputs": [],
   "source": [
    "# Import the files that contain data for the graphs\n",
    "file_path_GDP_Traffic = 'TIL_6010_project_daniel/data/traffic volume/processed/GDP_Traffic_3countries.csv' \n",
    "df_GDP_Traffic_3countries = pd.read_csv(file_path_GDP_Traffic, delimiter=',')\n",
    "\n",
    "file_path_COVID = 'TIL_6010_project_daniel/data/traffic volume/processed/COVID_final.csv' \n",
    "df_COVID_final = pd.read_csv(file_path_COVID, delimiter=',')\n",
    "\n",
    "file_path_Traffic_COVID = 'TIL_6010_project_daniel/data/traffic volume/processed/GDP_Traffic_3countries_COVID.csv' \n",
    "df_GDP_Traffic_3countries_COVID = pd.read_csv(file_path_Traffic_COVID, delimiter=',')\n",
    "\n",
    "\n"
   ]
  },
  {
   "cell_type": "code",
   "execution_count": null,
   "id": "7f02b33e",
   "metadata": {},
   "outputs": [],
   "source": [
    "# Make graph showing the Traffic volume relative to GDP over time for the three countries\n",
    "Traffic_volume = [\"Netherlands traffic volume relative to GDP\", \"Poland traffic volume relative to GDP\", \"Romania traffic relative to GDP\"]\n",
    "fig = px.line(df_GDP_Traffic_3countries, x=df_GDP_Traffic_3countries.index, y=Traffic_volume, title=\"Traffic volume relative to GDP for three countries\")\n",
    "fig.show()\n",
    "\n",
    "# Make graph showing the GDP of the three countries\n",
    "GDP = [\"GDP Netherlands\", \"GDP Poland\", \"GDP Romania\"]\n",
    "fig = px.line(df_GDP_Traffic_3countries, x=df_GDP_Traffic_3countries.index, y=df_GDP_Traffic_3countries.columns[0:3], title=\"GDP of three countries\")\n",
    "fig.show()\n",
    "\n",
    "# Make bar plot showing the percentual change in Traffic volume\n",
    "fig = px.bar(df_GDP_Traffic_3countries_COVID, x=df_GDP_Traffic_3countries_COVID.index, y=Traffic_volume, title=\"Traffic volume percentage change for three countries\", barmode='group', labels={\n",
    "                     \"value\": \"Percentage change from year before\"})           \n",
    "fig.show()\n",
    "\n",
    "# Make bar plot showing the percentual change in GDP\n",
    "fig = px.bar(df_GDP_Traffic_3countries_COVID, x=df_GDP_Traffic_3countries_COVID.index, y=GDP, title=\"GDP percentage change for three countries\", barmode='group', labels={\n",
    "                     \"value\": \"Percentage change from year before\"})           \n",
    "fig.show()\n",
    "\n",
    "# Make bar plot showing the number of COVID cases 2019 and 2020\n",
    "Cases = [\"COVID_cases_Netherlands\", 'COVID_cases_Poland', 'COVID_cases_Romania']\n",
    "fig = px.bar(df_COVID_final, x=\"year\", y=Cases, title=\"COVID cases 2019 and 2020\", barmode='group', labels={\n",
    "                     \"value\": \"COVID cases\"})           \n",
    "fig.show()\n",
    "\n",
    "# Make bar plot showing the number of COVID deaths 2019 and 2020\n",
    "Deaths = [\"COVID_deaths_Netherlands\", 'COVID_deaths_Poland', 'COVID_deaths_Romania']\n",
    "fig = px.bar(df_COVID_final, x=\"year\", y=Deaths, title=\"COVID deaths 2019 and 2020\", barmode='group', labels={\n",
    "                     \"value\": \"COVID deaths\"})           \n",
    "fig.show()"
   ]
  },
  {
   "cell_type": "code",
   "execution_count": null,
   "id": "4245dce6",
   "metadata": {},
   "outputs": [],
   "source": []
  },
  {
   "cell_type": "markdown",
   "id": "dab68fff",
   "metadata": {},
   "source": [
    "<h1>Conclusion / Discussion</h1>\n",
    "\n",
    "The first graph shows the traffic volume relative to GDP of the three countries over a 10 year period. This is quite stable untill 2019. From 2019 to 2020, however, a big change seems to occur. This is probably due to COVID. The second graph shows the GDP of the three countries over a 10 year period. This is quite stable aswell, so the big decline in 2020 is not caused by GDP changes. The third graph shows the percentage change of the traffic volume relative to the previous year for the three countries. The Netherlands has the biggest decline in traffic volume, followed by Poland and then Romania. In graph 5 and 6 the covid data for these countries can be found. These figures together indicate that there is indeed a relation between COVID and the traffic volume. Furthurmore, it seems to be the case that wealthier countries, like the Netherlands have a bigger decline in traffic volume than less wealthy countries, like Poland and Romania. The reason for this is probably that people in more wealthy countries have more service minded jobs, which are easier to perform from home. Less wealthy countries have less of these types of jobs and therefore are not as suited to work from home. Also, people in more wealthy countries generally have more room for a loss of income and can therefore more easily work less or stop working due to COVID. In less wealthy countries, this is not the case.\n",
    "\n",
    "This research gives a good indication of the impact of COVID on mobility in countires of a different wealth category. However, based on this research, hard conclusions can not yet be made. This research could therefore be improved by looking at more countries and also monthly data, when it becomes available. Statistical tests can than be conducted to compare the mean traffic decline in a group of wealthy and a group of less wealthy countries. Also, more research behind the reason why this occurs is nessecary. A few possible explanations have been mentioned already."
   ]
  },
  {
   "cell_type": "code",
   "execution_count": null,
   "id": "e5083263",
   "metadata": {},
   "outputs": [],
   "source": []
  }
 ],
 "metadata": {
  "kernelspec": {
   "display_name": "Python 3",
   "language": "python",
   "name": "python3"
  },
  "language_info": {
   "codemirror_mode": {
    "name": "ipython",
    "version": 3
   },
   "file_extension": ".py",
   "mimetype": "text/x-python",
   "name": "python",
   "nbconvert_exporter": "python",
   "pygments_lexer": "ipython3",
   "version": "3.8.8"
  }
 },
 "nbformat": 4,
 "nbformat_minor": 5
}
