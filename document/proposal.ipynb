{
 "cells": [
  {
   "cell_type": "markdown",
   "metadata": {},
   "source": [
    "# TIL6022 Project Proposal\n",
    "Group member: Cynthia Cai, Chenghua Yang, Daniel Auerbach, Ruisheng Liu\n",
    "\n",
    "## Research Objective\n",
    "The research objective is to study the difference ofCOVID-19’s influence in mobility and some other mobility-related situations in the Netherlands and Poland.\n",
    "\n",
    "The sub domains are:\n",
    "\n",
    "- mobility\n",
    "    - vehicle miles travelled \n",
    "    - CO2 emissions \n",
    "- travelling behaviour\n",
    "    - visits and length of stay at different places change, like retail, grocery, workplace, etc\n",
    "- travelling needs\n",
    "    - digitalization of business\n",
    "- relationship between transport modes (bus, subway, private cars) with hospital rate\n",
    "\n",
    "## Data Used\n",
    "- Eurostat: https://www.statista.com/statistics/1171183/ghg-emissions-sector-european-union-eu/\n",
    "- Google mobility data: https://www.google.com/covid19/mobility/\n",
    "- CBS Open data Statline: https://opendata.cbs.nl/statline/portal.html?_la=en&_catalog=CBS&tableId=84755ENG&_theme=1159\n",
    "- European Commission data: https://ec.europa.eu/info/statistics_en\n",
    "- Hospitality(LCPS): https://lcps.nu/datafeed/\n",
    "\n",
    "## Data Pipeline\n",
    "1. Select and download datasets based on research objective\n",
    "2. Data preprocessing, like removing outliers, filling in null values\n",
    "3. Data analysis and data visualization\n",
    "4. Results\n",
    "\n",
    "## Work Allocation\n",
    "The initial idea is to let everyone carry out an analysis task. So the work allocation will be:\n",
    "\n",
    "- Daniel Auerbach: mobility\n",
    "- Ruisheng Liu: travelling behaviour\n",
    "- Cynthia Cai: travelling needs\n",
    "- Chenghua Yang: hospital rate\n",
    "\n",
    "\n",
    "\n"
   ]
  }
 ],
 "metadata": {
  "language_info": {
   "name": "python"
  },
  "orig_nbformat": 4
 },
 "nbformat": 4,
 "nbformat_minor": 2
}
